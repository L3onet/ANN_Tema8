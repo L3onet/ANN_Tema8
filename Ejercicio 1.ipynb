{
 "cells": [
  {
   "cell_type": "code",
   "execution_count": 1,
   "id": "eaeafe34",
   "metadata": {},
   "outputs": [
    {
     "data": {
      "text/plain": [
       "(array([1.06711146, 1.03478111, 1.03197022, 0.99441879, 1.06992236]),\n",
       " array([1.2578862 , 1.08089018]))"
      ]
     },
     "execution_count": 1,
     "metadata": {},
     "output_type": "execute_result"
    }
   ],
   "source": [
    "import numpy as np\n",
    "\n",
    "# Definir la función de activación sigmoide y su derivada\n",
    "def sigmoid(x):\n",
    "    return 1 / (1 + np.exp(-x))\n",
    "\n",
    "def sigmoid_derivative(x):\n",
    "    return sigmoid(x) * (1 - sigmoid(x))\n",
    "\n",
    "# Datos de entrada y salidas esperadas (clasificación binaria +:1, -:0)\n",
    "X = np.array([\n",
    "    [1, 1, 0, 1],  # Bias term will be added later\n",
    "    [0, 1, 1, 0],\n",
    "    [0, 0, 1, 1],\n",
    "    [0, 0, 0, 1]\n",
    "])\n",
    "\n",
    "y = np.array([1, 0, 0, 1])\n",
    "\n",
    "# Inicializar pesos con wij=1\n",
    "weights_input_to_hidden = np.ones(5)  # 4 inputs + 1 bias\n",
    "weights_hidden_to_output = np.ones(2)  # 1 hidden + 1 bias\n",
    "\n",
    "# Valor umbral\n",
    "threshold = 4\n",
    "\n",
    "# Factor de aprendizaje\n",
    "learning_rate = 0.6\n",
    "\n",
    "# Función para realizar una iteración de entrenamiento\n",
    "def train_one_iteration(X, y, weights_input_to_hidden, weights_hidden_to_output, learning_rate, threshold):\n",
    "    # Añadir el término de bias a los datos de entrada\n",
    "    X_with_bias = np.hstack((np.ones((X.shape[0], 1)), X))  # Añade un término de bias como columna\n",
    "\n",
    "    # Iterar sobre todos los ejemplos\n",
    "    for i in range(X.shape[0]):\n",
    "        # Paso hacia adelante\n",
    "        hidden_input = np.dot(X_with_bias[i], weights_input_to_hidden) - threshold\n",
    "        hidden_output = sigmoid(hidden_input)\n",
    "        \n",
    "        final_input = np.dot(np.array([1, hidden_output]), weights_hidden_to_output) - threshold\n",
    "        final_output = sigmoid(final_input)\n",
    "        \n",
    "        # Error y delta de la salida\n",
    "        output_error = y[i] - final_output\n",
    "        output_delta = output_error * sigmoid_derivative(final_output)\n",
    "        \n",
    "        # Actualizar los pesos de salida\n",
    "        weights_hidden_to_output += learning_rate * output_delta * np.array([1, hidden_output])\n",
    "\n",
    "        # Calcular el error y el delta de la neurona oculta\n",
    "        hidden_error = output_delta * weights_hidden_to_output[1]\n",
    "        hidden_delta = hidden_error * sigmoid_derivative(hidden_output)\n",
    "\n",
    "        # Actualizar los pesos de entrada\n",
    "        weights_input_to_hidden += learning_rate * hidden_delta * X_with_bias[i]\n",
    "\n",
    "    return weights_input_to_hidden, weights_hidden_to_output\n",
    "\n",
    "# Entrenamiento con una sola iteración\n",
    "weights_input_to_hidden, weights_hidden_to_output = train_one_iteration(\n",
    "    X, y, weights_input_to_hidden, weights_hidden_to_output, learning_rate, threshold\n",
    ")\n",
    "\n",
    "weights_input_to_hidden, weights_hidden_to_output\n"
   ]
  }
 ],
 "metadata": {
  "kernelspec": {
   "display_name": "Python 3 (ipykernel)",
   "language": "python",
   "name": "python3"
  },
  "language_info": {
   "codemirror_mode": {
    "name": "ipython",
    "version": 3
   },
   "file_extension": ".py",
   "mimetype": "text/x-python",
   "name": "python",
   "nbconvert_exporter": "python",
   "pygments_lexer": "ipython3",
   "version": "3.9.16"
  }
 },
 "nbformat": 4,
 "nbformat_minor": 5
}
