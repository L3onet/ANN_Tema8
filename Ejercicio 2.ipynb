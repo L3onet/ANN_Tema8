{
 "cells": [
  {
   "cell_type": "code",
   "execution_count": 1,
   "id": "43bd6c7b",
   "metadata": {},
   "outputs": [],
   "source": [
    "#pip install minisom"
   ]
  },
  {
   "cell_type": "code",
   "execution_count": 2,
   "id": "56230f30",
   "metadata": {},
   "outputs": [
    {
     "name": "stdout",
     "output_type": "stream",
     "text": [
      "¿Debe salir corriendo el niño? Sí\n"
     ]
    }
   ],
   "source": [
    "import numpy as np\n",
    "from minisom import MiniSom\n",
    "\n",
    "# Definir los patrones de entrada para el león y el gato\n",
    "lion_pattern = np.array([1, 1, 0, 1, 0])\n",
    "cat_pattern = np.array([1, 1, 1, 0, 1])\n",
    "\n",
    "# Inicializar un mapa autoorganizado (SOM) con tamaño adecuado para los patrones\n",
    "som = MiniSom(x=1, y=2, input_len=5, sigma=0.3, learning_rate=0.5)\n",
    "som.random_weights_init([lion_pattern])\n",
    "\n",
    "# Entrenar el SOM con el patrón del león\n",
    "# Usualmente se requieren múltiples iteraciones, pero aquí sólo usaremos una por simplicidad\n",
    "som.train_random([lion_pattern], num_iteration=1)\n",
    "\n",
    "# Ahora, presentamos el patrón del gato al SOM entrenado para ver a qué nodo se asigna\n",
    "# Esto simulará la identificación del gato en base a su similitud con el león\n",
    "winner_node = som.winner(cat_pattern)\n",
    "\n",
    "# Si el nodo ganador es el mismo que el del león, entonces son considerados similares\n",
    "is_dangerous = winner_node[1] == 0  # Suponemos que el león está en la posición 0 y el gato en la 1\n",
    "\n",
    "print(\"¿Debe salir corriendo el niño?\", \"Sí\" if is_dangerous else \"No\")\n"
   ]
  }
 ],
 "metadata": {
  "kernelspec": {
   "display_name": "Python 3 (ipykernel)",
   "language": "python",
   "name": "python3"
  },
  "language_info": {
   "codemirror_mode": {
    "name": "ipython",
    "version": 3
   },
   "file_extension": ".py",
   "mimetype": "text/x-python",
   "name": "python",
   "nbconvert_exporter": "python",
   "pygments_lexer": "ipython3",
   "version": "3.9.16"
  }
 },
 "nbformat": 4,
 "nbformat_minor": 5
}
